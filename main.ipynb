{
 "cells": [
  {
   "cell_type": "code",
   "execution_count": 30,
   "metadata": {},
   "outputs": [],
   "source": [
    "import pandas as pd\n",
    "import numpy as np\n",
    "import networkx as nx\n",
    "import torch\n",
    "import spektral\n",
    "from spektral.datasets.citation import Citation\n",
    "from torch.utils.data import Dataset, DataLoader"
   ]
  },
  {
   "cell_type": "code",
   "execution_count": 36,
   "metadata": {},
   "outputs": [
    {
     "name": "stderr",
     "output_type": "stream",
     "text": [
      "c:\\Users\\Marco\\AppData\\Local\\Programs\\Python\\Python39\\lib\\site-packages\\scipy\\sparse\\_index.py:125: SparseEfficiencyWarning: Changing the sparsity structure of a csr_matrix is expensive. lil_matrix is more efficient.\n",
      "  self._set_arrayXarray(i, j, x)\n"
     ]
    },
    {
     "data": {
      "text/plain": [
       "Graph(n_nodes=3327, n_node_features=3703, n_edge_features=None, n_labels=6)"
      ]
     },
     "execution_count": 36,
     "metadata": {},
     "output_type": "execute_result"
    }
   ],
   "source": [
    "dataset = Citation(\"citeseer\", random_split=True, normalize=True)\n",
    "dataset[0]"
   ]
  },
  {
   "cell_type": "code",
   "execution_count": 27,
   "metadata": {},
   "outputs": [
    {
     "data": {
      "text/plain": [
       "3327"
      ]
     },
     "execution_count": 27,
     "metadata": {},
     "output_type": "execute_result"
    }
   ],
   "source": [
    "node_list = set([x[0] for x in edge_list] + [x[1] for x in edge_list])\n",
    "len(node_list)"
   ]
  },
  {
   "cell_type": "code",
   "execution_count": 40,
   "metadata": {},
   "outputs": [],
   "source": [
    "node_ids = {k:v for v,k in enumerate(node_list)}"
   ]
  },
  {
   "cell_type": "code",
   "execution_count": 47,
   "metadata": {},
   "outputs": [],
   "source": [
    "n = len(node_list)\n",
    "adj_mat = np.zeros((n,n))\n",
    "\n",
    "for x,y in edge_list:\n",
    "    adj_mat[node_ids[x],node_ids[y]] = 1"
   ]
  },
  {
   "cell_type": "code",
   "execution_count": 60,
   "metadata": {},
   "outputs": [],
   "source": [
    "dinv_mat = np.nan_to_num(np.diag(adj_mat.sum(axis=0)))"
   ]
  },
  {
   "cell_type": "code",
   "execution_count": 74,
   "metadata": {},
   "outputs": [],
   "source": [
    "alpha = 0.15\n",
    "\n",
    "Abar = np.matmul(adj_mat, dinv_mat)\n",
    "I = np.diag(np.ones(n))\n",
    "M = np.linalg.inv(I - (1-alpha)*Abar)\n",
    "\n",
    "intimacy_mat = alpha*M"
   ]
  },
  {
   "cell_type": "code",
   "execution_count": 144,
   "metadata": {},
   "outputs": [],
   "source": [
    "class CoraDataset(Dataset):\n",
    "    def __init__(self, path='data/citeseer/', context_size=10) -> None:\n",
    "        \"\"\"\n",
    "        Args:\n",
    "            path (str, optional): path containing the Cora dataset. Defaults to 'data/citeseer/'.\n",
    "            context_size (int, optional): number of nodes in a target node context, represent the\n",
    "                                          topk nodes sorted by intimacy score. Defaults to 10.\n",
    "        \"\"\"\n",
    "        super().__init__()\n",
    "\n",
    "        self.context_size = context_size\n",
    "\n",
    "        # swap nodes on each row as they are listed as target-source\n",
    "        df = pd.read_csv(f\"{path}/citeseer.cites\", sep='\\t', header=None)\n",
    "        self.edge_list = [(x[1], x[0]) for x in df.values.tolist()]\n",
    "        self.node_list = set([x[0] for x in self.edge_list] + [x[1] for x in self.edge_list])\n",
    "        self.node_ids = {k:v for v,k in enumerate(node_list)}\n",
    "        self.n = len(node_list)\n",
    "\n",
    "        # pre-process graph to make data loader more efficient\n",
    "        self.build_intimacy_matrix()\n",
    "        self.build_contexts()\n",
    "\n",
    "    def build_intimacy_matrix(self, alpha=0.15):\n",
    "        # create adjacency matrix\n",
    "        n = self.n\n",
    "        adj_mat = np.zeros((n,n))\n",
    "\n",
    "        for x,y in self.edge_list:\n",
    "            adj_mat[self.node_ids[x], self.node_ids[y]] = 1\n",
    "            adj_mat[self.node_ids[y], self.node_ids[x]] = 1\n",
    "        \n",
    "        # compute inverse of diagonal degrees matrix\n",
    "        dinv_mat = np.nan_to_num(np.diag(adj_mat.sum(axis=0)))\n",
    "\n",
    "        # compute final matrix, for details see (1) in Graph-BERT by Zhang et al. '20 page 3\n",
    "        Abar = np.matmul(adj_mat, dinv_mat)\n",
    "        I = np.diag(np.ones(n))\n",
    "        M = np.linalg.inv(I - (1-alpha)*Abar)\n",
    "\n",
    "        self.intimacy_mat = alpha*M\n",
    "    \n",
    "    def build_contexts(self):\n",
    "        context_list = np.zeros((self.n, self.context_size+1), dtype=np.int)\n",
    "\n",
    "        # always include target node into its context\n",
    "        context_list[:,0] = range(self.n)\n",
    "\n",
    "        # context of a node contains the topk nodes sorted by intimacy score\n",
    "        context_list[:,1:] = (-self.intimacy_mat).argsort(axis=1)[:,:self.context_size]\n",
    "        \n",
    "        self.context_list = context_list\n",
    "    \n",
    "    def __len__(self):\n",
    "        \"\"\" each node together with its context represent an instance of the graph \"\"\"\n",
    "        return self.n\n",
    "    \n",
    "    def __getitem__(self, idx):\n",
    "        pass"
   ]
  },
  {
   "cell_type": "code",
   "execution_count": 145,
   "metadata": {},
   "outputs": [],
   "source": [
    "cora = CoraDataset()"
   ]
  },
  {
   "cell_type": "code",
   "execution_count": 146,
   "metadata": {},
   "outputs": [
    {
     "data": {
      "text/plain": [
       "array([[   0,  936,  576, ..., 3249, 3229,  855],\n",
       "       [   1,    1, 2073, ..., 2215, 2216, 2217],\n",
       "       [   2,    2, 2724, ..., 3063, 2994, 1925],\n",
       "       ...,\n",
       "       [3324, 1221,  844, ..., 1489,  206, 3063],\n",
       "       [3325, 2734, 2786, ...,  126, 1143, 1662],\n",
       "       [3326, 3278, 2561, ..., 2724, 1311,  522]])"
      ]
     },
     "execution_count": 146,
     "metadata": {},
     "output_type": "execute_result"
    }
   ],
   "source": [
    "cora.context_list"
   ]
  },
  {
   "cell_type": "code",
   "execution_count": 136,
   "metadata": {},
   "outputs": [
    {
     "data": {
      "text/plain": [
       "array([ 936,  576,  236, ..., 1136,  493, 2692], dtype=int64)"
      ]
     },
     "execution_count": 136,
     "metadata": {},
     "output_type": "execute_result"
    }
   ],
   "source": [
    "(-cora.intimacy_mat[0,:]).argsort()"
   ]
  },
  {
   "cell_type": "code",
   "execution_count": 116,
   "metadata": {},
   "outputs": [
    {
     "data": {
      "text/plain": [
       "array([-0., -0., -0., -0., -0.])"
      ]
     },
     "execution_count": 116,
     "metadata": {},
     "output_type": "execute_result"
    }
   ],
   "source": [
    "i = 50\n",
    "cora.intimacy_mat[i,(-cora.intimacy_mat[i]).argsort()[:5]]"
   ]
  },
  {
   "cell_type": "code",
   "execution_count": 109,
   "metadata": {},
   "outputs": [
    {
     "data": {
      "text/plain": [
       "1"
      ]
     },
     "execution_count": 109,
     "metadata": {},
     "output_type": "execute_result"
    }
   ],
   "source": [
    "(cora.intimacy_mat[10] > 0).sum()"
   ]
  },
  {
   "cell_type": "code",
   "execution_count": null,
   "metadata": {},
   "outputs": [],
   "source": []
  }
 ],
 "metadata": {
  "kernelspec": {
   "display_name": "Python 3.9.2 64-bit",
   "language": "python",
   "name": "python3"
  },
  "language_info": {
   "codemirror_mode": {
    "name": "ipython",
    "version": 3
   },
   "file_extension": ".py",
   "mimetype": "text/x-python",
   "name": "python",
   "nbconvert_exporter": "python",
   "pygments_lexer": "ipython3",
   "version": "3.9.2"
  },
  "orig_nbformat": 4,
  "vscode": {
   "interpreter": {
    "hash": "00ff9db9870ec9f1423bc268ca660a602054e7415f81d5798dee84cbde947ffd"
   }
  }
 },
 "nbformat": 4,
 "nbformat_minor": 2
}
