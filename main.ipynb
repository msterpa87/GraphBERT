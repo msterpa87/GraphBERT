{
 "cells": [
  {
   "cell_type": "code",
   "execution_count": 108,
   "metadata": {},
   "outputs": [],
   "source": [
    "import pandas as pd\n",
    "import numpy as np\n",
    "import networkx as nx\n",
    "import torch\n",
    "import spektral\n",
    "import hashlib\n",
    "from spektral.datasets.citation import Citation\n",
    "from torch.utils.data import Dataset, DataLoader"
   ]
  },
  {
   "cell_type": "code",
   "execution_count": 112,
   "metadata": {},
   "outputs": [],
   "source": [
    "class CoraDataset(Dataset):\n",
    "    def __init__(self, path='data/citeseer/', context_size=10, with_wl=True, wl_iterations=2) -> None:\n",
    "        \"\"\"\n",
    "        Args:\n",
    "            path (str, optional): path containing the Cora dataset. Defaults to 'data/citeseer/'.\n",
    "            context_size (int, optional): number of nodes in a target node context, represent the\n",
    "                                          topk nodes sorted by intimacy score. Defaults to 10.\n",
    "        \"\"\"\n",
    "        super().__init__()\n",
    "\n",
    "        self.context_size = context_size\n",
    "        self.with_wl = with_wl\n",
    "        self.wl_iterations = wl_iterations\n",
    "\n",
    "        # swap nodes on each row as they are listed as target-source\n",
    "        df = pd.read_csv(f\"{path}/citeseer.cites\", sep='\\t', header=None)\n",
    "        self.edge_list = [(x[1], x[0]) for x in df.values.tolist()]\n",
    "        self.node_list = set([x[0] for x in self.edge_list] + [x[1] for x in self.edge_list])\n",
    "        self.name_to_id = {k:v for v,k in enumerate(self.node_list)}\n",
    "        self.id_to_name = {v:k for v,k in enumerate(self.node_list)}\n",
    "        self.n = len(self.node_list)\n",
    "\n",
    "        # load features and labels\n",
    "        self.raw_features = pd.read_csv(f\"{path}/citeseer.content\", sep='\\t', header=None, index_col=0)\n",
    "        self.raw_features.index = self.raw_features.index.astype(str)\n",
    "        self.labels = self.raw_features.iloc[:,-1].astype('category').cat.codes\n",
    "        self.raw_features = self.raw_features.iloc[:,:-1]\n",
    "\n",
    "        # pre-process graph to make data loader more efficient\n",
    "        self.build_intimacy_matrix()\n",
    "        self.build_contexts()\n",
    "\n",
    "        self.wl_colors = None\n",
    "        if with_wl:\n",
    "            self.build_wl_coloring()\n",
    "\n",
    "    def build_intimacy_matrix(self, alpha=0.15):\n",
    "        # create adjacency matrix\n",
    "        n = self.n\n",
    "        adj_mat = np.zeros((n,n))\n",
    "        name_to_id = self.name_to_id\n",
    "\n",
    "        for x,y in self.edge_list:\n",
    "            adj_mat[name_to_id[x], name_to_id[y]] = 1\n",
    "            adj_mat[name_to_id[y], name_to_id[x]] = 1\n",
    "        \n",
    "        # compute inverse of diagonal degrees matrix\n",
    "        dinv_mat = np.nan_to_num(np.diag(adj_mat.sum(axis=0)))\n",
    "\n",
    "        # compute final matrix, for details see (1) in Graph-BERT by Zhang et al. '20 page 3\n",
    "        Abar = np.matmul(adj_mat, dinv_mat)\n",
    "        I = np.diag(np.ones(n))\n",
    "        M = np.linalg.inv(I - (1-alpha)*Abar)\n",
    "\n",
    "        self.intimacy_mat = alpha*M\n",
    "    \n",
    "    def build_contexts(self):\n",
    "        context_list = np.zeros((self.n, self.context_size+1), dtype=np.int)\n",
    "\n",
    "        # always include target node into its context\n",
    "        context_list[:,0] = range(self.n)\n",
    "\n",
    "        # context of a node contains the topk nodes sorted by intimacy score\n",
    "        context_list[:,1:] = (-self.intimacy_mat).argsort(axis=1)[:,:self.context_size]\n",
    "        \n",
    "        self.context_list = context_list\n",
    "    \n",
    "    def build_wl_coloring(self):\n",
    "        G = nx.from_edgelist(self.edge_list, create_using=nx.Graph)\n",
    "\n",
    "        # initialize node colors\n",
    "        wl_colors = {node:1 for node in G.nodes}\n",
    "\n",
    "        for _ in range(self.wl_iterations):\n",
    "            for node in sorted(G.nodes):\n",
    "                # combine colors from neighbors\n",
    "                code_list = [wl_colors[node]] + [wl_colors[x] for x in sorted(G.neighbors(node))]\n",
    "                code = \"\".join(map(str, code_list))\n",
    "\n",
    "                # update node code\n",
    "                wl_colors[node] = hashlib.md5(code.encode()).hexdigest()\n",
    "        \n",
    "        color_to_num = {color:i for i,color in enumerate(set(wl_colors.values()))}\n",
    "        wl_colors = {node:color_to_num[c] for node,c in wl_colors.items()}\n",
    "        self.wl_colors = wl_colors\n",
    "    \n",
    "    def __len__(self):\n",
    "        \"\"\" each node together with its context represent an instance of the graph \"\"\"\n",
    "        return self.n\n",
    "    \n",
    "    def __getitem__(self, idx):\n",
    "        context = self.context_list[idx,:]\n",
    "        X = np.array([self.raw_features.loc[self.id_to_name[x]].to_numpy() for x in context])\n",
    "        y = np.array([self.labels[self.id_to_name[x]] for x in context])\n",
    "\n",
    "        if self.with_wl:\n",
    "            C = np.array([self.wl_colors[self.id_to_name[x]] for x in context])\n",
    "            return X, C, y\n",
    "        else:\n",
    "            return X, y"
   ]
  },
  {
   "cell_type": "code",
   "execution_count": 113,
   "metadata": {},
   "outputs": [
    {
     "name": "stderr",
     "output_type": "stream",
     "text": [
      "c:\\Users\\Marco\\AppData\\Local\\Programs\\Python\\Python39\\lib\\site-packages\\IPython\\core\\interactiveshell.py:3357: DtypeWarning: Columns (0) have mixed types.Specify dtype option on import or set low_memory=False.\n",
      "  if (await self.run_code(code, result,  async_=asy)):\n"
     ]
    }
   ],
   "source": [
    "cora = CoraDataset()"
   ]
  },
  {
   "cell_type": "code",
   "execution_count": 114,
   "metadata": {},
   "outputs": [
    {
     "data": {
      "text/plain": [
       "(array([[0, 0, 0, ..., 0, 0, 0],\n",
       "        [0, 0, 0, ..., 0, 0, 0],\n",
       "        [0, 0, 0, ..., 0, 0, 0],\n",
       "        ...,\n",
       "        [0, 0, 0, ..., 0, 0, 0],\n",
       "        [0, 0, 0, ..., 0, 0, 0],\n",
       "        [0, 0, 0, ..., 0, 0, 0]], dtype=int64),\n",
       " array([1399, 1160, 2023,  793, 1822, 1574, 1626, 1887, 1428, 1504,  935]),\n",
       " array([1, 4, 4, 1, 1, 1, 2, 2, 4, 5, 2], dtype=int8))"
      ]
     },
     "execution_count": 114,
     "metadata": {},
     "output_type": "execute_result"
    }
   ],
   "source": [
    "cora[0]"
   ]
  },
  {
   "cell_type": "code",
   "execution_count": null,
   "metadata": {},
   "outputs": [],
   "source": []
  }
 ],
 "metadata": {
  "kernelspec": {
   "display_name": "Python 3.9.2 64-bit",
   "language": "python",
   "name": "python3"
  },
  "language_info": {
   "codemirror_mode": {
    "name": "ipython",
    "version": 3
   },
   "file_extension": ".py",
   "mimetype": "text/x-python",
   "name": "python",
   "nbconvert_exporter": "python",
   "pygments_lexer": "ipython3",
   "version": "3.9.2"
  },
  "orig_nbformat": 4,
  "vscode": {
   "interpreter": {
    "hash": "00ff9db9870ec9f1423bc268ca660a602054e7415f81d5798dee84cbde947ffd"
   }
  }
 },
 "nbformat": 4,
 "nbformat_minor": 2
}
